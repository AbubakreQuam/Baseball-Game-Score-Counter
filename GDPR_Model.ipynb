{
  "nbformat": 4,
  "nbformat_minor": 0,
  "metadata": {
    "colab": {
      "provenance": [],
      "mount_file_id": "1MQra_raiAyaeddAmfamglYSAv8NuH0Pw",
      "authorship_tag": "ABX9TyPgcBcaoPepQBfLlQ79dQ//",
      "include_colab_link": true
    },
    "kernelspec": {
      "name": "python3",
      "display_name": "Python 3"
    },
    "language_info": {
      "name": "python"
    }
  },
  "cells": [
    {
      "cell_type": "markdown",
      "metadata": {
        "id": "view-in-github",
        "colab_type": "text"
      },
      "source": [
        "<a href=\"https://colab.research.google.com/github/AbubakreQuam/Baseball-Game-Score-Counter/blob/main/GDPR_Model.ipynb\" target=\"_parent\"><img src=\"https://colab.research.google.com/assets/colab-badge.svg\" alt=\"Open In Colab\"/></a>"
      ]
    },
    {
      "cell_type": "code",
      "execution_count": 54,
      "metadata": {
        "colab": {
          "base_uri": "https://localhost:8080/"
        },
        "id": "_zWKyBFL8O5E",
        "outputId": "2835a7e5-e888-437e-d00c-df3eacaf4369"
      },
      "outputs": [
        {
          "output_type": "stream",
          "name": "stdout",
          "text": [
            "   Lawfulness_Fairness_Transparency  Purpose_Limitation  Data_Minimisation  \\\n",
            "0                                 0                   0                  0   \n",
            "1                                 1                   0                  0   \n",
            "2                                 1                   1                  0   \n",
            "3                                 0                   0                  1   \n",
            "4                                 1                   1                  1   \n",
            "\n",
            "   Accuracy  Storage_Limitation  Integrity_Confidentiality  Accountability  \\\n",
            "0         1                   0                          0               1   \n",
            "1         1                   1                          0               0   \n",
            "2         1                   1                          1               1   \n",
            "3         0                   1                          0               1   \n",
            "4         1                   0                          0               1   \n",
            "\n",
            "                Evaluation_Label  \n",
            "0      Fail degree of compliance  \n",
            "1      Fail degree of compliance  \n",
            "2      High degree of compliance  \n",
            "3      Fail degree of compliance  \n",
            "4  Moderate degree of compliance  \n"
          ]
        }
      ],
      "source": [
        "import pandas as pd\n",
        "import numpy as np\n",
        "from faker import Faker\n",
        "\n",
        "# Initializing Faker for random generation\n",
        "fake = Faker()\n",
        "\n",
        "# Number of samples to generate\n",
        "num_samples = 1000000\n",
        "\n",
        "# Generating the dataset\n",
        "data = {\n",
        "    \"Lawfulness_Fairness_Transparency\": np.random.randint(0, 2, num_samples),\n",
        "    \"Purpose_Limitation\": np.random.randint(0, 2, num_samples),\n",
        "    \"Data_Minimisation\": np.random.randint(0, 2, num_samples),\n",
        "    \"Accuracy\": np.random.randint(0, 2, num_samples),\n",
        "    \"Storage_Limitation\": np.random.randint(0, 2, num_samples),\n",
        "    \"Integrity_Confidentiality\": np.random.randint(0, 2, num_samples),\n",
        "    \"Accountability\": np.random.randint(0, 2, num_samples),\n",
        "}\n",
        "\n",
        "# Converting the data into DataFrame\n",
        "df = pd.DataFrame(data)\n",
        "\n",
        "# Defining the evaluation label based on the number of passed principles\n",
        "def evaluate_compliance(row):\n",
        "    passed_criteria = row.sum()\n",
        "    if passed_criteria >= 6:\n",
        "        return \"High degree of compliance\"\n",
        "    elif 4 <= passed_criteria <= 5:\n",
        "        return \"Moderate degree of compliance\"\n",
        "    else:\n",
        "        return \"Fail degree of compliance\"\n",
        "\n",
        "# Applying the evaluation function\n",
        "df[\"Evaluation_Label\"] = df.apply(evaluate_compliance, axis=1)\n",
        "\n",
        "# Displaying the first few rows of the generated dataset\n",
        "print(df.head())\n",
        "\n",
        "# Saving the dataset to a CSV file\n",
        "#df.to_csv(\"gdpr_compliance_new_dataset.csv\", index=False)\n",
        "df.to_csv(\"new_gdpr_compliance_test_data.csv\", index=False)\n"
      ]
    },
    {
      "cell_type": "code",
      "source": [
        "# @title Default title text\n",
        "import pandas as pd\n",
        "import matplotlib.pyplot as plt\n",
        "\n",
        "\n",
        "df = pd.read_csv('gdpr_compliance_new_dataset.csv')\n",
        "\n",
        "\n",
        "# this counts the occurrences of each compliance level\n",
        "compliance_counts = df['Evaluation_Label'].value_counts()\n",
        "\n",
        "\n",
        "print(\"Count of each compliance level:\")\n",
        "print(compliance_counts)\n",
        "\n",
        "# Plot the distribution using a bar chart\n",
        "plt.figure(figsize=(8, 6))\n",
        "compliance_counts.plot(kind='bar', color=['green', 'orange', 'red'])\n",
        "\n",
        "# Adding titles and labels\n",
        "plt.title('Distribution of GDPR Compliance Levels')\n",
        "plt.xlabel('Compliance Level')\n",
        "plt.ylabel('Number of Institutions')\n",
        "\n",
        "# Show the plot\n",
        "plt.show()\n"
      ],
      "metadata": {
        "colab": {
          "base_uri": "https://localhost:8080/",
          "height": 875
        },
        "id": "saz15qcVFvoG",
        "outputId": "7cd8fd9c-8f8a-44c0-9740-9713bed35341"
      },
      "execution_count": null,
      "outputs": [
        {
          "output_type": "stream",
          "name": "stdout",
          "text": [
            "Count of each compliance level:\n",
            "Evaluation_Label\n",
            "Fail degree of compliance        4999983\n",
            "Moderate degree of compliance    4374526\n",
            "High degree of compliance         625491\n",
            "Name: count, dtype: int64\n"
          ]
        },
        {
          "output_type": "display_data",
          "data": {
            "text/plain": [
              "<Figure size 800x600 with 1 Axes>"
            ],
            "image/png": "[encoded data removed]"
          },
          "metadata": {}
        }
      ]
    },
    {
      "cell_type": "markdown",
      "source": [
        "**Import Necessary Libraries**"
      ],
      "metadata": {
        "id": "vxacJRARK8H6"
      }
    },
    {
      "cell_type": "code",
      "source": [
        "import pandas as pd\n",
        "import numpy as np\n",
        "from sklearn.model_selection import train_test_split\n",
        "from sklearn.preprocessing import StandardScaler, OneHotEncoder\n",
        "from sklearn.svm import SVC\n",
        "from sklearn.ensemble import RandomForestClassifier\n",
        "from sklearn.naive_bayes import GaussianNB\n",
        "from sklearn.metrics import accuracy_score, classification_report, confusion_matrix\n",
        "import matplotlib.pyplot as plt\n",
        "import seaborn as sns\n",
        "import joblib"
      ],
      "metadata": {
        "id": "uM9jjCxGK1eY"
      },
      "execution_count": null,
      "outputs": []
    },
    {
      "cell_type": "markdown",
      "source": [
        "**Loading and Preprocessing of the Data**"
      ],
      "metadata": {
        "id": "lirizS-qLGQL"
      }
    },
    {
      "cell_type": "code",
      "source": [
        "# Loading the dataset for training\n",
        "data = pd.read_csv('gdpr_compliance_new_dataset.csv')\n",
        "\n",
        "# Spliting features and labels\n",
        "X = data.drop('Evaluation_Label', axis=1)\n",
        "y = data['Evaluation_Label']\n",
        "\n",
        "# Using the agreed One-Hot Encode the labels\n",
        "encoder = OneHotEncoder(sparse=False)\n",
        "y_encoded = encoder.fit_transform(y.values.reshape(-1, 1))\n",
        "\n",
        "# Spliting the dataset into training and testing sets\n",
        "X_train, X_test, y_train, y_test = train_test_split(X, y_encoded, test_size=0.2, random_state=42)\n",
        "\n",
        "# Scaling the features using StandardScaler\n",
        "scaler = StandardScaler()\n",
        "X_train = scaler.fit_transform(X_train)\n",
        "X_test = scaler.transform(X_test)\n",
        "\n",
        "# Saving the scaler because retraining and testing\n",
        "joblib.dump(scaler, 'scaler.pkl')\n"
      ],
      "metadata": {
        "colab": {
          "base_uri": "https://localhost:8080/"
        },
        "id": "vs9BLzzvLLzV",
        "outputId": "3ab7cf6f-4377-4e21-9c04-340da6e9f739"
      },
      "execution_count": null,
      "outputs": [
        {
          "output_type": "stream",
          "name": "stderr",
          "text": [
            "/usr/local/lib/python3.10/dist-packages/sklearn/preprocessing/_encoders.py:975: FutureWarning: `sparse` was renamed to `sparse_output` in version 1.2 and will be removed in 1.4. `sparse_output` is ignored unless you leave `sparse` to its default value.\n",
            "  warnings.warn(\n"
          ]
        },
        {
          "output_type": "execute_result",
          "data": {
            "text/plain": [
              "['scaler.pkl']"
            ]
          },
          "metadata": {},
          "execution_count": 6
        }
      ]
    },
    {
      "cell_type": "markdown",
      "source": [
        "**Training of SVM, Random Forest, and Naive Bayes Classifiers**"
      ],
      "metadata": {
        "id": "4YfinS3RLcUU"
      }
    },
    {
      "cell_type": "code",
      "source": [
        "# Training the SVM model\n",
        "svm_model = SVC()\n",
        "svm_model.fit(X_train, np.argmax(y_train, axis=1))  # Convert one-hot back to labels for training\n",
        "y_pred_svm = svm_model.predict(X_test)\n",
        "\n",
        "# Saving the trained SVM model\n",
        "joblib.dump(svm_model, 'svm_model.pkl')\n",
        "\n",
        "# Training the Random Forest model\n",
        "rf_model = RandomForestClassifier(n_estimators=100, random_state=42)\n",
        "rf_model.fit(X_train, np.argmax(y_train, axis=1))  # Convert one-hot back to labels for training\n",
        "y_pred_rf = rf_model.predict(X_test)\n",
        "\n",
        "# Saving the trained Random Forest model\n",
        "joblib.dump(rf_model, 'rf_model.pkl')\n",
        "\n",
        "# Training the Naive Bayes model\n",
        "nb_model = GaussianNB()\n",
        "nb_model.fit(X_train, np.argmax(y_train, axis=1))  # Convert one-hot back to labels for training\n",
        "y_pred_nb = nb_model.predict(X_test)\n",
        "\n",
        "# Saving the trained Naive Bayes model\n",
        "joblib.dump(nb_model, 'nb_model.pkl')\n",
        "\n",
        "print(\"Models have been saved successfully.\")"
      ],
      "metadata": {
        "colab": {
          "base_uri": "https://localhost:8080/"
        },
        "id": "NggV8wPpLhoe",
        "outputId": "73bcb3b7-c561-4a05-9057-596d6c8cba48"
      },
      "execution_count": null,
      "outputs": [
        {
          "output_type": "stream",
          "name": "stdout",
          "text": [
            "Models have been saved successfully.\n"
          ]
        }
      ]
    },
    {
      "cell_type": "markdown",
      "source": [
        "**Evaluating of the Models**"
      ],
      "metadata": {
        "id": "ZIqYiE20LosU"
      }
    },
    {
      "cell_type": "code",
      "source": [
        "# Converting y_test back to labels\n",
        "y_test_labels = np.argmax(y_test, axis=1)\n",
        "\n",
        "# Evaluating the trained SVM Model\n",
        "print(\"SVM Classification Report\")\n",
        "print(classification_report(y_test_labels, y_pred_svm))\n",
        "print(\"SVM Confusion Matrix\")\n",
        "print(confusion_matrix(y_test_labels, y_pred_svm))\n",
        "\n",
        "# Evaluating the trained Random Forest Model\n",
        "print(\"Random Forest Classification Report\")\n",
        "print(classification_report(y_test_labels, y_pred_rf))\n",
        "print(\"Random Forest Confusion Matrix\")\n",
        "print(confusion_matrix(y_test_labels, y_pred_rf))\n",
        "\n",
        "# Evaluating the trained Naive Bayes Model\n",
        "print(\"Naive Bayes Classification Report\")\n",
        "print(classification_report(y_test_labels, y_pred_nb))\n",
        "print(\"Naive Bayes Confusion Matrix\")\n",
        "print(confusion_matrix(y_test_labels, y_pred_nb))"
      ],
      "metadata": {
        "colab": {
          "base_uri": "https://localhost:8080/"
        },
        "id": "61WJTp5-L9hK",
        "outputId": "24bd09b4-e672-4e61-9109-b1e45db67470"
      },
      "execution_count": null,
      "outputs": [
        {
          "output_type": "stream",
          "name": "stdout",
          "text": [
            "SVM Classification Report\n",
            "              precision    recall  f1-score   support\n",
            "\n",
            "           0       1.00      1.00      1.00   1000221\n",
            "           1       1.00      1.00      1.00    124985\n",
            "           2       1.00      1.00      1.00    874794\n",
            "\n",
            "    accuracy                           1.00   2000000\n",
            "   macro avg       1.00      1.00      1.00   2000000\n",
            "weighted avg       1.00      1.00      1.00   2000000\n",
            "\n",
            "SVM Confusion Matrix\n",
            "[[1000221       0       0]\n",
            " [      0  124985       0]\n",
            " [      0       0  874794]]\n",
            "Random Forest Classification Report\n",
            "              precision    recall  f1-score   support\n",
            "\n",
            "           0       1.00      1.00      1.00   1000221\n",
            "           1       1.00      1.00      1.00    124985\n",
            "           2       1.00      1.00      1.00    874794\n",
            "\n",
            "    accuracy                           1.00   2000000\n",
            "   macro avg       1.00      1.00      1.00   2000000\n",
            "weighted avg       1.00      1.00      1.00   2000000\n",
            "\n",
            "Random Forest Confusion Matrix\n",
            "[[1000221       0       0]\n",
            " [      0  124985       0]\n",
            " [      0       0  874794]]\n",
            "Naive Bayes Classification Report\n",
            "              precision    recall  f1-score   support\n",
            "\n",
            "           0       1.00      1.00      1.00   1000221\n",
            "           1       1.00      0.13      0.22    124985\n",
            "           2       0.89      1.00      0.94    874794\n",
            "\n",
            "    accuracy                           0.95   2000000\n",
            "   macro avg       0.96      0.71      0.72   2000000\n",
            "weighted avg       0.95      0.95      0.93   2000000\n",
            "\n",
            "Naive Bayes Confusion Matrix\n",
            "[[1000221       0       0]\n",
            " [      0   15669  109316]\n",
            " [      0       0  874794]]\n"
          ]
        }
      ]
    },
    {
      "cell_type": "markdown",
      "source": [
        "**Comparing the Performance of the Models**"
      ],
      "metadata": {
        "id": "4xS3uIooMC98"
      }
    },
    {
      "cell_type": "code",
      "source": [
        "# Accuracy Scores\n",
        "accuracy_svm = accuracy_score(y_test_labels, y_pred_svm)\n",
        "accuracy_rf = accuracy_score(y_test_labels, y_pred_rf)\n",
        "accuracy_nb = accuracy_score(y_test_labels, y_pred_nb)\n",
        "\n",
        "# Printing the Accuracy for the three trained models\n",
        "print(f\"SVM Accuracy: {accuracy_svm * 100:.2f}%\")\n",
        "print(f\"Random Forest Accuracy: {accuracy_rf * 100:.2f}%\")\n",
        "print(f\"Naive Bayes Accuracy: {accuracy_nb * 100:.2f}%\")\n"
      ],
      "metadata": {
        "colab": {
          "base_uri": "https://localhost:8080/"
        },
        "id": "GYaHdqdwMH85",
        "outputId": "b395182e-3847-4bd3-c377-dde77e86501c"
      },
      "execution_count": null,
      "outputs": [
        {
          "output_type": "stream",
          "name": "stdout",
          "text": [
            "SVM Accuracy: 100.00%\n",
            "Random Forest Accuracy: 100.00%\n",
            "Naive Bayes Accuracy: 94.53%\n"
          ]
        }
      ]
    },
    {
      "cell_type": "markdown",
      "source": [
        "**Visualizing of the Performance**"
      ],
      "metadata": {
        "id": "FjN2JrRGMLWt"
      }
    },
    {
      "cell_type": "code",
      "source": [
        "# Bar Plot for Model Comparison\n",
        "accuracies = [accuracy_svm, accuracy_rf, accuracy_nb]\n",
        "models = ['SVM', 'Random Forest', 'Naive Bayes']\n",
        "\n",
        "plt.figure(figsize=(10, 6))\n",
        "sns.barplot(x=models, y=accuracies)\n",
        "plt.title('Model Comparison')\n",
        "plt.xlabel('Models')\n",
        "plt.ylabel('Accuracy')\n",
        "plt.show()\n"
      ],
      "metadata": {
        "colab": {
          "base_uri": "https://localhost:8080/",
          "height": 564
        },
        "id": "qzR0zmrJMPyW",
        "outputId": "c6d77623-2faa-475d-f35d-22e38043b766"
      },
      "execution_count": null,
      "outputs": [
        {
          "output_type": "display_data",
          "data": {
            "text/plain": [
              "<Figure size 1000x600 with 1 Axes>"
            ],
            "image/png": "[encoded data removed]"
          },
          "metadata": {}
        }
      ]
    },
    {
      "cell_type": "code",
      "source": [
        "pip install Faker"
      ],
      "metadata": {
        "colab": {
          "base_uri": "https://localhost:8080/"
        },
        "id": "JE1Py1z_DvBL",
        "outputId": "e9d5dd40-137d-4e3f-eb5b-8dbe2251d318"
      },
      "execution_count": null,
      "outputs": [
        {
          "output_type": "stream",
          "name": "stdout",
          "text": [
            "Collecting Faker\n",
            "  Downloading Faker-28.0.0-py3-none-any.whl.metadata (15 kB)\n",
            "Requirement already satisfied: python-dateutil>=2.4 in /usr/local/lib/python3.10/dist-packages (from Faker) (2.8.2)\n",
            "Requirement already satisfied: six>=1.5 in /usr/local/lib/python3.10/dist-packages (from python-dateutil>=2.4->Faker) (1.16.0)\n",
            "Downloading Faker-28.0.0-py3-none-any.whl (1.8 MB)\n",
            "\u001b[2K   \u001b[90m━━━━━━━━━━━━━━━━━━━━━━━━━━━━━━━━━━━━━━━━\u001b[0m \u001b[32m1.8/1.8 MB\u001b[0m \u001b[31m40.0 MB/s\u001b[0m eta \u001b[36m0:00:00\u001b[0m\n",
            "\u001b[?25hInstalling collected packages: Faker\n",
            "Successfully installed Faker-28.0.0\n"
          ]
        }
      ]
    },
    {
      "cell_type": "markdown",
      "source": [
        "**Re-Training Saved Model**"
      ],
      "metadata": {
        "id": "p7MnNPhbdQrd"
      }
    },
    {
      "cell_type": "code",
      "source": [
        "import pandas as pd\n",
        "import numpy as np\n",
        "from sklearn.preprocessing import StandardScaler, OneHotEncoder\n",
        "from sklearn.metrics import accuracy_score, classification_report, confusion_matrix\n",
        "import matplotlib.pyplot as plt\n",
        "import seaborn as sns\n",
        "import joblib\n",
        "from sklearn.model_selection import train_test_split # Import the train_test_split function\n",
        "\n",
        "\n",
        "data = pd.read_csv('gdpr_compliance_new_dataset.csv')\n",
        "\n",
        "X = data.drop('Evaluation_Label', axis=1)\n",
        "y = data['Evaluation_Label']\n",
        "\n",
        "encoder = OneHotEncoder(sparse=False)\n",
        "y_encoded = encoder.fit_transform(y.values.reshape(-1, 1))\n",
        "\n",
        "X_train, X_test, y_train, y_test = train_test_split(X, y_encoded, test_size=0.2, random_state=42)\n",
        "\n",
        "\n",
        "# Loading the previous saved scaler for training\n",
        "scaler = joblib.load('scaler.pkl')\n",
        "X_test = scaler.transform(X_test)\n",
        "\n",
        "# Re-saving the scaler again\n",
        "joblib.dump(scaler, 'scaler.pkl')\n",
        "\n",
        "# Loading the previously trained models\n",
        "svm_model = joblib.load('svm_model.pkl')\n",
        "rf_model = joblib.load('rf_model.pkl')\n",
        "nb_model = joblib.load('nb_model.pkl')\n",
        "\n",
        "# Predicting using the loaded models\n",
        "y_pred_svm = svm_model.predict(X_test)\n",
        "y_pred_rf = rf_model.predict(X_test)\n",
        "y_pred_nb = nb_model.predict(X_test)\n",
        "\n",
        "\n",
        "# Saving the Re-trained models\n",
        "joblib.dump(svm_model, 'ret_svm_model.pkl') # Saving the trained SVM model\n",
        "joblib.dump(rf_model, 'ret_rf_model.pkl') # Saving the trained Random Forest model\n",
        "joblib.dump(nb_model, 'ret_nb_model.pkl') # Saving the trained Naive Bayes model\n",
        "\n",
        "print(\"Re-Trained Models have been saved successfully.\")\n",
        "\n",
        "# Converting y_test back to labels\n",
        "y_test_labels = np.argmax(y_test, axis=1)\n",
        "\n",
        "# Evaluating the trained SVM Model\n",
        "print(\"SVM Classification Report\")\n",
        "print(classification_report(y_test_labels, y_pred_svm))\n",
        "print(\"SVM Confusion Matrix\")\n",
        "print(confusion_matrix(y_test_labels, y_pred_svm))\n",
        "\n",
        "# Evaluating the trained Random Forest Model\n",
        "print(\"Random Forest Classification Report\")\n",
        "print(classification_report(y_test_labels, y_pred_rf))\n",
        "print(\"Random Forest Confusion Matrix\")\n",
        "print(confusion_matrix(y_test_labels, y_pred_rf))\n",
        "\n",
        "# Evaluating the trained Naive Bayes Model\n",
        "print(\"Naive Bayes Classification Report\")\n",
        "print(classification_report(y_test_labels, y_pred_nb))\n",
        "print(\"Naive Bayes Confusion Matrix\")\n",
        "print(confusion_matrix(y_test_labels, y_pred_nb))\n",
        "\n",
        "# Accuracy Scores\n",
        "accuracy_svm = accuracy_score(y_test_labels, y_pred_svm)\n",
        "accuracy_rf = accuracy_score(y_test_labels, y_pred_rf)\n",
        "accuracy_nb = accuracy_score(y_test_labels, y_pred_nb)\n",
        "\n",
        "# Printing the Accuracy Score for the three models\n",
        "print(f\"SVM Accuracy: {accuracy_svm * 100:.2f}%\")\n",
        "print(f\"Random Forest Accuracy: {accuracy_rf * 100:.2f}%\")\n",
        "print(f\"Naive Bayes Accuracy: {accuracy_nb * 100:.2f}%\")\n",
        "\n",
        "# Bar Plot for Model Comparison\n",
        "accuracies = [accuracy_svm, accuracy_rf, accuracy_nb]\n",
        "models = ['SVM', 'Random Forest', 'Naive Bayes']\n",
        "\n",
        "plt.figure(figsize=(10, 6))\n",
        "sns.barplot(x=models, y=accuracies)\n",
        "plt.title('Model Comparison')\n",
        "plt.xlabel('Models')\n",
        "plt.ylabel('Accuracy')\n",
        "plt.show()\n"
      ],
      "metadata": {
        "colab": {
          "base_uri": "https://localhost:8080/",
          "height": 1000
        },
        "id": "mZUJqXDzdYB8",
        "outputId": "1c325b68-d21a-4cb4-cac6-9f1eb9ccca54"
      },
      "execution_count": null,
      "outputs": [
        {
          "output_type": "stream",
          "name": "stderr",
          "text": [
            "/usr/local/lib/python3.10/dist-packages/sklearn/preprocessing/_encoders.py:975: FutureWarning: `sparse` was renamed to `sparse_output` in version 1.2 and will be removed in 1.4. `sparse_output` is ignored unless you leave `sparse` to its default value.\n",
            "  warnings.warn(\n"
          ]
        },
        {
          "output_type": "stream",
          "name": "stdout",
          "text": [
            "Re-Trained Models have been saved successfully.\n",
            "SVM Classification Report\n",
            "              precision    recall  f1-score   support\n",
            "\n",
            "           0       1.00      1.00      1.00    100030\n",
            "           1       1.00      1.00      1.00     12555\n",
            "           2       1.00      1.00      1.00     87415\n",
            "\n",
            "    accuracy                           1.00    200000\n",
            "   macro avg       1.00      1.00      1.00    200000\n",
            "weighted avg       1.00      1.00      1.00    200000\n",
            "\n",
            "SVM Confusion Matrix\n",
            "[[100030      0      0]\n",
            " [     0  12555      0]\n",
            " [     0      0  87415]]\n",
            "Random Forest Classification Report\n",
            "              precision    recall  f1-score   support\n",
            "\n",
            "           0       1.00      1.00      1.00    100030\n",
            "           1       1.00      1.00      1.00     12555\n",
            "           2       1.00      1.00      1.00     87415\n",
            "\n",
            "    accuracy                           1.00    200000\n",
            "   macro avg       1.00      1.00      1.00    200000\n",
            "weighted avg       1.00      1.00      1.00    200000\n",
            "\n",
            "Random Forest Confusion Matrix\n",
            "[[100030      0      0]\n",
            " [     0  12555      0]\n",
            " [     0      0  87415]]\n",
            "Naive Bayes Classification Report\n",
            "              precision    recall  f1-score   support\n",
            "\n",
            "           0       1.00      1.00      1.00    100030\n",
            "           1       1.00      0.12      0.22     12555\n",
            "           2       0.89      1.00      0.94     87415\n",
            "\n",
            "    accuracy                           0.94    200000\n",
            "   macro avg       0.96      0.71      0.72    200000\n",
            "weighted avg       0.95      0.94      0.93    200000\n",
            "\n",
            "Naive Bayes Confusion Matrix\n",
            "[[100030      0      0]\n",
            " [     0   1546  11009]\n",
            " [     0      0  87415]]\n",
            "SVM Accuracy: 100.00%\n",
            "Random Forest Accuracy: 100.00%\n",
            "Naive Bayes Accuracy: 94.50%\n"
          ]
        },
        {
          "output_type": "display_data",
          "data": {
            "text/plain": [
              "<Figure size 1000x600 with 1 Axes>"
            ],
            "image/png": "[encoded data removed]"
          },
          "metadata": {}
        }
      ]
    },
    {
      "cell_type": "markdown",
      "source": [
        "**Testing rained Model on New Datasets**"
      ],
      "metadata": {
        "id": "R9H-DoO4QoEK"
      }
    },
    {
      "cell_type": "code",
      "source": [
        "import pandas as pd\n",
        "import numpy as np\n",
        "from sklearn.model_selection import train_test_split\n",
        "from sklearn.preprocessing import StandardScaler, OneHotEncoder\n",
        "from sklearn.svm import SVC\n",
        "from sklearn.ensemble import RandomForestClassifier\n",
        "from sklearn.naive_bayes import GaussianNB\n",
        "from sklearn.metrics import accuracy_score, classification_report, confusion_matrix\n",
        "import joblib\n",
        "\n",
        "\n",
        "new_data = pd.read_csv('new_gdpr_compliance_test_data.csv')\n",
        "\n",
        "\n",
        "X_new = new_data.drop('Evaluation_Label', axis=1)\n",
        "y_new = new_data['Evaluation_Label']\n",
        "\n",
        "\n",
        "encoder = OneHotEncoder(sparse=False)\n",
        "y_new = encoder.fit_transform(y_new.values.reshape(-1, 1))\n",
        "\n",
        "# Scaling the features using the same scaler as during training\n",
        "# Loading the saved scaler\n",
        "scaler = joblib.load('scaler.pkl')\n",
        "X_new = scaler.transform(X_new)\n",
        "\n",
        "# Loading the three trained saved models\n",
        "svm_model = joblib.load('ret_svm_model.pkl')\n",
        "rf_model = joblib.load('ret_rf_model.pkl')\n",
        "nb_model = joblib.load('ret_nb_model.pkl')\n",
        "\n",
        "\n",
        "y_pred_svm = svm_model.predict(X_new)\n",
        "y_pred_rf = rf_model.predict(X_new)\n",
        "y_pred_nb = nb_model.predict(X_new)\n",
        "\n",
        "\n",
        "y_new_labels = np.argmax(y_new, axis=1)\n",
        "\n",
        "# Evaluating the trained SVM  Model\n",
        "print(\"SVM Classification Report\")\n",
        "print(classification_report(y_new_labels, y_pred_svm))\n",
        "print(\"SVM Confusion Matrix\")\n",
        "print(confusion_matrix(y_new_labels, y_pred_svm))\n",
        "\n",
        "# Evaluating the trained Random Forest Model\n",
        "print(\"Random Forest Classification Report\")\n",
        "print(classification_report(y_new_labels, y_pred_rf))\n",
        "print(\"Random Forest Confusion Matrix\")\n",
        "print(confusion_matrix(y_new_labels, y_pred_rf))\n",
        "\n",
        "# Evaluating the trained Naive Bayes Model\n",
        "print(\"Naive Bayes Classification Report\")\n",
        "print(classification_report(y_new_labels, y_pred_nb))\n",
        "print(\"Naive Bayes Confusion Matrix\")\n",
        "print(confusion_matrix(y_new_labels, y_pred_nb))\n"
      ],
      "metadata": {
        "colab": {
          "base_uri": "https://localhost:8080/"
        },
        "id": "Su_EdArJQvmo",
        "outputId": "641ae55b-e65b-4953-fe99-6ef1bdc5a355"
      },
      "execution_count": 55,
      "outputs": [
        {
          "output_type": "stream",
          "name": "stdout",
          "text": [
            "SVM Classification Report\n",
            "              precision    recall  f1-score   support\n",
            "\n",
            "           0       1.00      1.00      1.00         7\n",
            "           1       1.00      1.00      1.00         1\n",
            "           2       1.00      1.00      1.00         2\n",
            "\n",
            "    accuracy                           1.00        10\n",
            "   macro avg       1.00      1.00      1.00        10\n",
            "weighted avg       1.00      1.00      1.00        10\n",
            "\n",
            "SVM Confusion Matrix\n",
            "[[7 0 0]\n",
            " [0 1 0]\n",
            " [0 0 2]]\n",
            "Random Forest Classification Report\n",
            "              precision    recall  f1-score   support\n",
            "\n",
            "           0       1.00      1.00      1.00         7\n",
            "           1       1.00      1.00      1.00         1\n",
            "           2       1.00      1.00      1.00         2\n",
            "\n",
            "    accuracy                           1.00        10\n",
            "   macro avg       1.00      1.00      1.00        10\n",
            "weighted avg       1.00      1.00      1.00        10\n",
            "\n",
            "Random Forest Confusion Matrix\n",
            "[[7 0 0]\n",
            " [0 1 0]\n",
            " [0 0 2]]\n",
            "Naive Bayes Classification Report\n",
            "              precision    recall  f1-score   support\n",
            "\n",
            "           0       1.00      1.00      1.00         7\n",
            "           1       0.00      0.00      0.00         1\n",
            "           2       0.67      1.00      0.80         2\n",
            "\n",
            "    accuracy                           0.90        10\n",
            "   macro avg       0.56      0.67      0.60        10\n",
            "weighted avg       0.83      0.90      0.86        10\n",
            "\n",
            "Naive Bayes Confusion Matrix\n",
            "[[7 0 0]\n",
            " [0 0 1]\n",
            " [0 0 2]]\n"
          ]
        },
        {
          "output_type": "stream",
          "name": "stderr",
          "text": [
            "/usr/local/lib/python3.10/dist-packages/sklearn/preprocessing/_encoders.py:975: FutureWarning: `sparse` was renamed to `sparse_output` in version 1.2 and will be removed in 1.4. `sparse_output` is ignored unless you leave `sparse` to its default value.\n",
            "  warnings.warn(\n",
            "/usr/local/lib/python3.10/dist-packages/sklearn/metrics/_classification.py:1471: UndefinedMetricWarning: Precision and F-score are ill-defined and being set to 0.0 in labels with no predicted samples. Use `zero_division` parameter to control this behavior.\n",
            "  _warn_prf(average, modifier, msg_start, len(result))\n",
            "/usr/local/lib/python3.10/dist-packages/sklearn/metrics/_classification.py:1471: UndefinedMetricWarning: Precision and F-score are ill-defined and being set to 0.0 in labels with no predicted samples. Use `zero_division` parameter to control this behavior.\n",
            "  _warn_prf(average, modifier, msg_start, len(result))\n",
            "/usr/local/lib/python3.10/dist-packages/sklearn/metrics/_classification.py:1471: UndefinedMetricWarning: Precision and F-score are ill-defined and being set to 0.0 in labels with no predicted samples. Use `zero_division` parameter to control this behavior.\n",
            "  _warn_prf(average, modifier, msg_start, len(result))\n"
          ]
        }
      ]
    },
    {
      "cell_type": "code",
      "source": [
        "    # Converting the list to a numpy array and reshape for the model input\n",
        "\n",
        "    binary_responses = [1, 1, 1, 1, 0, 1, 1]\n",
        "    X_new = np.array(binary_responses).reshape(1, -1)\n",
        "\n",
        "    # Loading the pre-fitted scaler (assuming it was saved as 'scaler.pkl')\n",
        "    scaler = joblib.load('scaler.pkl')\n",
        "\n",
        "    X_new_scaled = scaler.transform(X_new)\n",
        "\n",
        "    # Loading the trained Random Forest model\n",
        "    rf_model = joblib.load('ret_rf_model.pkl')\n",
        "\n",
        "    # Making predictions\n",
        "    prediction = rf_model.predict(X_new_scaled)\n",
        "    print(\"Predicted Label:\", prediction)\n",
        "\n",
        "\n",
        "    if prediction == [1]:\n",
        "      print(\"High degree of compliance\")\n",
        "    elif prediction == [2]:\n",
        "        print(\"Moderate degree of compliance\")\n",
        "    else:\n",
        "        print(\"Fail degree of compliance\")\n"
      ],
      "metadata": {
        "colab": {
          "base_uri": "https://localhost:8080/"
        },
        "id": "z8S9BConaMyq",
        "outputId": "1d92e9f3-d4a3-44e6-cf58-049a92a90882"
      },
      "execution_count": 53,
      "outputs": [
        {
          "output_type": "stream",
          "name": "stdout",
          "text": [
            "Predicted Label: [1]\n",
            "High degree of compliance\n"
          ]
        },
        {
          "output_type": "stream",
          "name": "stderr",
          "text": [
            "/usr/local/lib/python3.10/dist-packages/sklearn/base.py:465: UserWarning: X does not have valid feature names, but StandardScaler was fitted with feature names\n",
            "  warnings.warn(\n"
          ]
        }
      ]
    }
  ]
}